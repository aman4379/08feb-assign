{
 "cells": [
  {
   "cell_type": "code",
   "execution_count": null,
   "id": "6b8722a4-819e-401b-aa78-2398909437fc",
   "metadata": {},
   "outputs": [],
   "source": [
    "Q1. What is Abstraction in OOps? Explain with an example."
   ]
  },
  {
   "cell_type": "code",
   "execution_count": null,
   "id": "58662c86-56b3-4f75-84d7-9875c56aa1e0",
   "metadata": {},
   "outputs": [],
   "source": [
    "Ans  Object-Oriented Programming (OOP) uses abstraction to separate the interface of an object from\n",
    "its implementation. It defines external behavior of an object and encapsulates its internal workings."
   ]
  },
  {
   "cell_type": "code",
   "execution_count": null,
   "id": "2f72284e-70ee-4183-9aff-b436ae6094e1",
   "metadata": {},
   "outputs": [],
   "source": [
    "Q2. Differentiate between Abstraction and Encapsulation. Explain with an example."
   ]
  },
  {
   "cell_type": "code",
   "execution_count": null,
   "id": "1b3d6883-f972-4a75-8c06-ced30244a511",
   "metadata": {},
   "outputs": [],
   "source": [
    "Ans Abstraction involves hiding unwanted information while providing the most important information, whereas \n",
    "    encapsulation implies hiding code and information in one device. Abstraction allows you to focus on what\n",
    "    the item does instead of how it does, while encapsulation means the inner details of how the object is\n",
    "    working."
   ]
  },
  {
   "cell_type": "code",
   "execution_count": null,
   "id": "e212c6f8-d9ac-44e7-bc56-2b285f941370",
   "metadata": {},
   "outputs": [],
   "source": [
    "Q3. What is abc module in python? Why is it used?"
   ]
  },
  {
   "cell_type": "code",
   "execution_count": null,
   "id": "90b400b2-24a3-48b9-9a0e-a1645e91c350",
   "metadata": {},
   "outputs": [],
   "source": [
    "Ans The 'abc' module in Python library provides the infrastructure for defining custom abstract base classes.\n",
    "    'abc' works by marking methods of the base class as abstract. This is done by @absttractmethod decorator."
   ]
  },
  {
   "cell_type": "code",
   "execution_count": null,
   "id": "02821015-7e9f-4993-addf-6463d986aa74",
   "metadata": {},
   "outputs": [],
   "source": [
    "Q4. How can we achieve data abstraction?"
   ]
  },
  {
   "cell_type": "code",
   "execution_count": null,
   "id": "030ad42c-548f-4051-9534-69dc5a9142b1",
   "metadata": {},
   "outputs": [],
   "source": [
    "Ans Data Abstraction in Python can be achieved through creating abstract classes and inheriting them later. "
   ]
  },
  {
   "cell_type": "code",
   "execution_count": null,
   "id": "b05c76c9-b908-4ce4-bfa1-39ebe0b15f52",
   "metadata": {},
   "outputs": [],
   "source": [
    "Q5. Can we create an instance of an abstract class? Explain your answer."
   ]
  },
  {
   "cell_type": "code",
   "execution_count": null,
   "id": "bb962120-ae0f-49d5-bb27-042226531b63",
   "metadata": {},
   "outputs": [],
   "source": [
    "Ans No, you cannot create an instance of an abstract class because it does not have a complete implementation. \n",
    "    The purpose of an abstract class is to function as a base for subclasses. It acts like a template, or an\n",
    "    empty or partially empty structure, you should extend it and build on it before you can use it."
   ]
  }
 ],
 "metadata": {
  "kernelspec": {
   "display_name": "Python 3 (ipykernel)",
   "language": "python",
   "name": "python3"
  },
  "language_info": {
   "codemirror_mode": {
    "name": "ipython",
    "version": 3
   },
   "file_extension": ".py",
   "mimetype": "text/x-python",
   "name": "python",
   "nbconvert_exporter": "python",
   "pygments_lexer": "ipython3",
   "version": "3.10.8"
  }
 },
 "nbformat": 4,
 "nbformat_minor": 5
}
